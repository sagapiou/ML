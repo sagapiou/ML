{
 "cells": [
  {
   "cell_type": "markdown",
   "metadata": {
    "colab_type": "text",
    "id": "lP6JLo1tGNBg"
   },
   "source": [
    "# Artificial Neural Network"
   ]
  },
  {
   "cell_type": "markdown",
   "metadata": {
    "colab_type": "text",
    "id": "gWZyYmS_UE_L"
   },
   "source": [
    "### Importing the libraries"
   ]
  },
  {
   "cell_type": "code",
   "execution_count": 4,
   "metadata": {
    "colab": {},
    "colab_type": "code",
    "id": "MxkJoQBkUIHC"
   },
   "outputs": [],
   "source": [
    "import numpy as np\n",
    "import pandas as pd\n",
    "import tensorflow as tf"
   ]
  },
  {
   "cell_type": "code",
   "execution_count": 3,
   "metadata": {
    "colab": {
     "base_uri": "https://localhost:8080/",
     "height": 34
    },
    "colab_type": "code",
    "id": "ZaTwK7ojXr2F",
    "outputId": "0b27a96d-d11a-43e8-ab4b-87c1f01896fe"
   },
   "outputs": [
    {
     "data": {
      "text/plain": [
       "'1.14.0'"
      ]
     },
     "execution_count": 3,
     "metadata": {},
     "output_type": "execute_result"
    }
   ],
   "source": [
    "tf.__version__"
   ]
  },
  {
   "cell_type": "markdown",
   "metadata": {
    "colab_type": "text",
    "id": "1E0Q3aoKUCRX"
   },
   "source": [
    "## Part 1 - Data Preprocessing"
   ]
  },
  {
   "cell_type": "markdown",
   "metadata": {
    "colab_type": "text",
    "id": "cKWAkFVGUU0Z"
   },
   "source": [
    "### Importing the dataset"
   ]
  },
  {
   "cell_type": "code",
   "execution_count": 5,
   "metadata": {
    "colab": {},
    "colab_type": "code",
    "id": "MXUkhkMfU4wq"
   },
   "outputs": [],
   "source": [
    "dataset = pd.read_csv('Churn_Modelling.csv')\n",
    "X = dataset.iloc[:, 3:-1].values\n",
    "y = dataset.iloc[:, -1].values"
   ]
  },
  {
   "cell_type": "code",
   "execution_count": 6,
   "metadata": {
    "colab": {
     "base_uri": "https://localhost:8080/",
     "height": 137
    },
    "colab_type": "code",
    "id": "VYP9cQTWbzuI",
    "outputId": "797e7a64-9bac-436a-8c9c-94437e5e7587"
   },
   "outputs": [
    {
     "name": "stdout",
     "output_type": "stream",
     "text": [
      "[[619 'France' 'Female' ... 1 1 101348.88]\n",
      " [608 'Spain' 'Female' ... 0 1 112542.58]\n",
      " [502 'France' 'Female' ... 1 0 113931.57]\n",
      " ...\n",
      " [709 'France' 'Female' ... 0 1 42085.58]\n",
      " [772 'Germany' 'Male' ... 1 0 92888.52]\n",
      " [792 'France' 'Female' ... 1 0 38190.78]]\n"
     ]
    }
   ],
   "source": [
    "print(X)"
   ]
  },
  {
   "cell_type": "code",
   "execution_count": 7,
   "metadata": {
    "colab": {
     "base_uri": "https://localhost:8080/",
     "height": 34
    },
    "colab_type": "code",
    "id": "38vKGE6Nb2RR",
    "outputId": "a815e42a-e0dd-4cb5-ab97-b17ead98fbc3"
   },
   "outputs": [
    {
     "name": "stdout",
     "output_type": "stream",
     "text": [
      "[1 0 1 ... 1 1 0]\n"
     ]
    }
   ],
   "source": [
    "print(y)"
   ]
  },
  {
   "cell_type": "markdown",
   "metadata": {
    "colab_type": "text",
    "id": "N6bQ0UgSU-NJ"
   },
   "source": [
    "### Encoding categorical data"
   ]
  },
  {
   "cell_type": "markdown",
   "metadata": {
    "colab_type": "text",
    "id": "le5MJreAbW52"
   },
   "source": [
    "Label Encoding the \"Gender\" column"
   ]
  },
  {
   "cell_type": "code",
   "execution_count": 8,
   "metadata": {
    "colab": {},
    "colab_type": "code",
    "id": "PxVKWXxLbczC"
   },
   "outputs": [],
   "source": [
    "from sklearn.preprocessing import LabelEncoder\n",
    "le = LabelEncoder()\n",
    "X[:, 2] = le.fit_transform(X[:, 2])"
   ]
  },
  {
   "cell_type": "code",
   "execution_count": 9,
   "metadata": {
    "colab": {
     "base_uri": "https://localhost:8080/",
     "height": 137
    },
    "colab_type": "code",
    "id": "-M1KboxFb6OO",
    "outputId": "e2b8c7e8-0cbc-4cdf-f4eb-7f0853a00b88"
   },
   "outputs": [
    {
     "name": "stdout",
     "output_type": "stream",
     "text": [
      "[[619 'France' 0 ... 1 1 101348.88]\n",
      " [608 'Spain' 0 ... 0 1 112542.58]\n",
      " [502 'France' 0 ... 1 0 113931.57]\n",
      " ...\n",
      " [709 'France' 0 ... 0 1 42085.58]\n",
      " [772 'Germany' 1 ... 1 0 92888.52]\n",
      " [792 'France' 0 ... 1 0 38190.78]]\n"
     ]
    }
   ],
   "source": [
    "print(X)"
   ]
  },
  {
   "cell_type": "markdown",
   "metadata": {
    "colab_type": "text",
    "id": "CUxGZezpbMcb"
   },
   "source": [
    "One Hot Encoding the \"Geography\" column"
   ]
  },
  {
   "cell_type": "code",
   "execution_count": 10,
   "metadata": {
    "colab": {},
    "colab_type": "code",
    "id": "AMXC8-KMVirw"
   },
   "outputs": [],
   "source": [
    "from sklearn.compose import ColumnTransformer\n",
    "from sklearn.preprocessing import OneHotEncoder\n",
    "ct = ColumnTransformer(transformers=[('encoder', OneHotEncoder(), [1])], remainder='passthrough')\n",
    "X = np.array(ct.fit_transform(X))"
   ]
  },
  {
   "cell_type": "code",
   "execution_count": 9,
   "metadata": {
    "colab": {
     "base_uri": "https://localhost:8080/",
     "height": 137
    },
    "colab_type": "code",
    "id": "ZcxwEon-b8nV",
    "outputId": "23a98af4-5e33-4b26-c27b-f06e3c5d2baf"
   },
   "outputs": [
    {
     "name": "stdout",
     "output_type": "stream",
     "text": [
      "[[1.0 0.0 0.0 ... 1 1 101348.88]\n",
      " [0.0 0.0 1.0 ... 0 1 112542.58]\n",
      " [1.0 0.0 0.0 ... 1 0 113931.57]\n",
      " ...\n",
      " [1.0 0.0 0.0 ... 0 1 42085.58]\n",
      " [0.0 1.0 0.0 ... 1 0 92888.52]\n",
      " [1.0 0.0 0.0 ... 1 0 38190.78]]\n"
     ]
    }
   ],
   "source": [
    "print(X)"
   ]
  },
  {
   "cell_type": "markdown",
   "metadata": {
    "colab_type": "text",
    "id": "vHol938cW8zd"
   },
   "source": [
    "### Splitting the dataset into the Training set and Test set"
   ]
  },
  {
   "cell_type": "code",
   "execution_count": 11,
   "metadata": {
    "colab": {},
    "colab_type": "code",
    "id": "Z-TDt0Y_XEfc"
   },
   "outputs": [],
   "source": [
    "from sklearn.model_selection import train_test_split\n",
    "X_train, X_test, y_train, y_test = train_test_split(X, y, test_size = 0.2, random_state = 0)"
   ]
  },
  {
   "cell_type": "markdown",
   "metadata": {
    "colab_type": "text",
    "id": "RE_FcHyfV3TQ"
   },
   "source": [
    "### Feature Scaling"
   ]
  },
  {
   "cell_type": "code",
   "execution_count": 13,
   "metadata": {
    "colab": {},
    "colab_type": "code",
    "id": "ViCrE00rV8Sk"
   },
   "outputs": [],
   "source": [
    "from sklearn.preprocessing import StandardScaler\n",
    "sc = StandardScaler()\n",
    "X_train = sc.fit_transform(X_train)\n",
    "X_test = sc.transform(X_test)"
   ]
  },
  {
   "cell_type": "markdown",
   "metadata": {
    "colab_type": "text",
    "id": "-zfEzkRVXIwF"
   },
   "source": [
    "## Part 2 - Building the ANN"
   ]
  },
  {
   "cell_type": "markdown",
   "metadata": {
    "colab_type": "text",
    "id": "KvdeScabXtlB"
   },
   "source": [
    "### Initializing the ANN"
   ]
  },
  {
   "cell_type": "code",
   "execution_count": 14,
   "metadata": {
    "colab": {},
    "colab_type": "code",
    "id": "3dtrScHxXQox"
   },
   "outputs": [],
   "source": [
    "ann = tf.keras.models.Sequential()"
   ]
  },
  {
   "cell_type": "markdown",
   "metadata": {
    "colab_type": "text",
    "id": "rP6urV6SX7kS"
   },
   "source": [
    "### Adding the input layer and the first hidden layer"
   ]
  },
  {
   "cell_type": "code",
   "execution_count": 15,
   "metadata": {
    "colab": {},
    "colab_type": "code",
    "id": "bppGycBXYCQr"
   },
   "outputs": [
    {
     "name": "stdout",
     "output_type": "stream",
     "text": [
      "WARNING:tensorflow:From C:\\Users\\Saga\\Anaconda3\\lib\\site-packages\\tensorflow\\python\\ops\\init_ops.py:1251: calling VarianceScaling.__init__ (from tensorflow.python.ops.init_ops) with dtype is deprecated and will be removed in a future version.\n",
      "Instructions for updating:\n",
      "Call initializer instance with the dtype argument instead of passing it to the constructor\n"
     ]
    }
   ],
   "source": [
    "ann.add(tf.keras.layers.Dense(units=6, activation='relu'))"
   ]
  },
  {
   "cell_type": "markdown",
   "metadata": {
    "colab_type": "text",
    "id": "BELWAc_8YJze"
   },
   "source": [
    "### Adding the second hidden layer"
   ]
  },
  {
   "cell_type": "code",
   "execution_count": 16,
   "metadata": {
    "colab": {},
    "colab_type": "code",
    "id": "JneR0u0sYRTd"
   },
   "outputs": [],
   "source": [
    "ann.add(tf.keras.layers.Dense(units=6, activation='relu'))"
   ]
  },
  {
   "cell_type": "markdown",
   "metadata": {
    "colab_type": "text",
    "id": "OyNEe6RXYcU4"
   },
   "source": [
    "### Adding the output layer"
   ]
  },
  {
   "cell_type": "code",
   "execution_count": 17,
   "metadata": {
    "colab": {},
    "colab_type": "code",
    "id": "Cn3x41RBYfvY"
   },
   "outputs": [],
   "source": [
    "ann.add(tf.keras.layers.Dense(units=1, activation='sigmoid'))"
   ]
  },
  {
   "cell_type": "markdown",
   "metadata": {
    "colab_type": "text",
    "id": "JT4u2S1_Y4WG"
   },
   "source": [
    "## Part 3 - Training the ANN"
   ]
  },
  {
   "cell_type": "markdown",
   "metadata": {
    "colab_type": "text",
    "id": "8GWlJChhY_ZI"
   },
   "source": [
    "### Compiling the ANN"
   ]
  },
  {
   "cell_type": "code",
   "execution_count": 18,
   "metadata": {
    "colab": {},
    "colab_type": "code",
    "id": "fG3RrwDXZEaS"
   },
   "outputs": [],
   "source": [
    "ann.compile(optimizer = 'adam', loss = 'binary_crossentropy', metrics = ['accuracy'])"
   ]
  },
  {
   "cell_type": "markdown",
   "metadata": {
    "colab_type": "text",
    "id": "0QR_G5u7ZLSM"
   },
   "source": [
    "### Training the ANN on the Training set"
   ]
  },
  {
   "cell_type": "code",
   "execution_count": 19,
   "metadata": {
    "colab": {
     "base_uri": "https://localhost:8080/",
     "height": 1000
    },
    "colab_type": "code",
    "id": "nHZ-LKv_ZRb3",
    "outputId": "718cc4b0-b5aa-40f0-9b20-d3d31730a531"
   },
   "outputs": [
    {
     "name": "stdout",
     "output_type": "stream",
     "text": [
      "WARNING:tensorflow:From C:\\Users\\Saga\\Anaconda3\\lib\\site-packages\\tensorflow\\python\\ops\\nn_impl.py:180: add_dispatch_support.<locals>.wrapper (from tensorflow.python.ops.array_ops) is deprecated and will be removed in a future version.\n",
      "Instructions for updating:\n",
      "Use tf.where in 2.0, which has the same broadcast rule as np.where\n",
      "Epoch 1/100\n",
      "8000/8000 [==============================] - 1s 66us/sample - loss: 0.5310 - acc: 0.7747\n",
      "Epoch 2/100\n",
      "8000/8000 [==============================] - 0s 40us/sample - loss: 0.4601 - acc: 0.8051\n",
      "Epoch 3/100\n",
      "8000/8000 [==============================] - 0s 37us/sample - loss: 0.4358 - acc: 0.8158\n",
      "Epoch 4/100\n",
      "8000/8000 [==============================] - 0s 35us/sample - loss: 0.4235 - acc: 0.8227\n",
      "Epoch 5/100\n",
      "8000/8000 [==============================] - 0s 38us/sample - loss: 0.4172 - acc: 0.8267\n",
      "Epoch 6/100\n",
      "8000/8000 [==============================] - 0s 36us/sample - loss: 0.4126 - acc: 0.8278\n",
      "Epoch 7/100\n",
      "8000/8000 [==============================] - 0s 37us/sample - loss: 0.4089 - acc: 0.8295\n",
      "Epoch 8/100\n",
      "8000/8000 [==============================] - 0s 35us/sample - loss: 0.4060 - acc: 0.8321\n",
      "Epoch 9/100\n",
      "8000/8000 [==============================] - 0s 34us/sample - loss: 0.4034 - acc: 0.8329\n",
      "Epoch 10/100\n",
      "8000/8000 [==============================] - 0s 37us/sample - loss: 0.4011 - acc: 0.8335\n",
      "Epoch 11/100\n",
      "8000/8000 [==============================] - 0s 37us/sample - loss: 0.3992 - acc: 0.8332\n",
      "Epoch 12/100\n",
      "8000/8000 [==============================] - 0s 36us/sample - loss: 0.3972 - acc: 0.8336\n",
      "Epoch 13/100\n",
      "8000/8000 [==============================] - 0s 37us/sample - loss: 0.3949 - acc: 0.8347\n",
      "Epoch 14/100\n",
      "8000/8000 [==============================] - 0s 42us/sample - loss: 0.3928 - acc: 0.8354\n",
      "Epoch 15/100\n",
      "8000/8000 [==============================] - 0s 36us/sample - loss: 0.3906 - acc: 0.8346\n",
      "Epoch 16/100\n",
      "8000/8000 [==============================] - 0s 41us/sample - loss: 0.3888 - acc: 0.8367\n",
      "Epoch 17/100\n",
      "8000/8000 [==============================] - 0s 37us/sample - loss: 0.3864 - acc: 0.8357\n",
      "Epoch 18/100\n",
      "8000/8000 [==============================] - 0s 36us/sample - loss: 0.3848 - acc: 0.8357\n",
      "Epoch 19/100\n",
      "8000/8000 [==============================] - 0s 37us/sample - loss: 0.3833 - acc: 0.8363\n",
      "Epoch 20/100\n",
      "8000/8000 [==============================] - 0s 38us/sample - loss: 0.3818 - acc: 0.8360\n",
      "Epoch 21/100\n",
      "8000/8000 [==============================] - 0s 38us/sample - loss: 0.3808 - acc: 0.8371\n",
      "Epoch 22/100\n",
      "8000/8000 [==============================] - 0s 36us/sample - loss: 0.3790 - acc: 0.8375\n",
      "Epoch 23/100\n",
      "8000/8000 [==============================] - 0s 37us/sample - loss: 0.3779 - acc: 0.8353\n",
      "Epoch 24/100\n",
      "8000/8000 [==============================] - 0s 35us/sample - loss: 0.3766 - acc: 0.8353\n",
      "Epoch 25/100\n",
      "8000/8000 [==============================] - 0s 37us/sample - loss: 0.3755 - acc: 0.8363\n",
      "Epoch 26/100\n",
      "8000/8000 [==============================] - 0s 40us/sample - loss: 0.3748 - acc: 0.8353\n",
      "Epoch 27/100\n",
      "8000/8000 [==============================] - 0s 41us/sample - loss: 0.3732 - acc: 0.8357\n",
      "Epoch 28/100\n",
      "8000/8000 [==============================] - 0s 37us/sample - loss: 0.3723 - acc: 0.8342\n",
      "Epoch 29/100\n",
      "8000/8000 [==============================] - 0s 37us/sample - loss: 0.3710 - acc: 0.8341\n",
      "Epoch 30/100\n",
      "8000/8000 [==============================] - 0s 37us/sample - loss: 0.3701 - acc: 0.8353\n",
      "Epoch 31/100\n",
      "8000/8000 [==============================] - 0s 36us/sample - loss: 0.3688 - acc: 0.8347\n",
      "Epoch 32/100\n",
      "8000/8000 [==============================] - 0s 36us/sample - loss: 0.3682 - acc: 0.8349\n",
      "Epoch 33/100\n",
      "8000/8000 [==============================] - 0s 35us/sample - loss: 0.3669 - acc: 0.8355\n",
      "Epoch 34/100\n",
      "8000/8000 [==============================] - 0s 35us/sample - loss: 0.3662 - acc: 0.8374\n",
      "Epoch 35/100\n",
      "8000/8000 [==============================] - 0s 36us/sample - loss: 0.3659 - acc: 0.8406\n",
      "Epoch 36/100\n",
      "8000/8000 [==============================] - 0s 38us/sample - loss: 0.3646 - acc: 0.8416\n",
      "Epoch 37/100\n",
      "8000/8000 [==============================] - 0s 38us/sample - loss: 0.3643 - acc: 0.8428\n",
      "Epoch 38/100\n",
      "8000/8000 [==============================] - 0s 38us/sample - loss: 0.3636 - acc: 0.8440\n",
      "Epoch 39/100\n",
      "8000/8000 [==============================] - 0s 38us/sample - loss: 0.3625 - acc: 0.8449\n",
      "Epoch 40/100\n",
      "8000/8000 [==============================] - 0s 39us/sample - loss: 0.3625 - acc: 0.8470\n",
      "Epoch 41/100\n",
      "8000/8000 [==============================] - 0s 40us/sample - loss: 0.3614 - acc: 0.8453\n",
      "Epoch 42/100\n",
      "8000/8000 [==============================] - 0s 38us/sample - loss: 0.3609 - acc: 0.8468\n",
      "Epoch 43/100\n",
      "8000/8000 [==============================] - 0s 37us/sample - loss: 0.3602 - acc: 0.8500\n",
      "Epoch 44/100\n",
      "8000/8000 [==============================] - 0s 38us/sample - loss: 0.3600 - acc: 0.8497\n",
      "Epoch 45/100\n",
      "8000/8000 [==============================] - 0s 38us/sample - loss: 0.3590 - acc: 0.8508\n",
      "Epoch 46/100\n",
      "8000/8000 [==============================] - 0s 37us/sample - loss: 0.3585 - acc: 0.8528\n",
      "Epoch 47/100\n",
      "8000/8000 [==============================] - 0s 39us/sample - loss: 0.3575 - acc: 0.8528\n",
      "Epoch 48/100\n",
      "8000/8000 [==============================] - 0s 37us/sample - loss: 0.3566 - acc: 0.8524\n",
      "Epoch 49/100\n",
      "8000/8000 [==============================] - 0s 40us/sample - loss: 0.3560 - acc: 0.8539\n",
      "Epoch 50/100\n",
      "8000/8000 [==============================] - 0s 35us/sample - loss: 0.3554 - acc: 0.8539\n",
      "Epoch 51/100\n",
      "8000/8000 [==============================] - 0s 37us/sample - loss: 0.3547 - acc: 0.8539\n",
      "Epoch 52/100\n",
      "8000/8000 [==============================] - 0s 36us/sample - loss: 0.3541 - acc: 0.8562\n",
      "Epoch 53/100\n",
      "8000/8000 [==============================] - 0s 33us/sample - loss: 0.3522 - acc: 0.8551\n",
      "Epoch 54/100\n",
      "8000/8000 [==============================] - 0s 37us/sample - loss: 0.3527 - acc: 0.8553\n",
      "Epoch 55/100\n",
      "8000/8000 [==============================] - 0s 37us/sample - loss: 0.3514 - acc: 0.8553\n",
      "Epoch 56/100\n",
      "8000/8000 [==============================] - 0s 39us/sample - loss: 0.3512 - acc: 0.8569\n",
      "Epoch 57/100\n",
      "8000/8000 [==============================] - 0s 38us/sample - loss: 0.3500 - acc: 0.8560\n",
      "Epoch 58/100\n",
      "8000/8000 [==============================] - 0s 39us/sample - loss: 0.3492 - acc: 0.8591\n",
      "Epoch 59/100\n",
      "8000/8000 [==============================] - 0s 38us/sample - loss: 0.3492 - acc: 0.8568\n",
      "Epoch 60/100\n",
      "8000/8000 [==============================] - 0s 37us/sample - loss: 0.3481 - acc: 0.8572\n",
      "Epoch 61/100\n",
      "8000/8000 [==============================] - 0s 43us/sample - loss: 0.3483 - acc: 0.8566\n",
      "Epoch 62/100\n",
      "8000/8000 [==============================] - 0s 41us/sample - loss: 0.3475 - acc: 0.8564\n",
      "Epoch 63/100\n",
      "8000/8000 [==============================] - 0s 43us/sample - loss: 0.3469 - acc: 0.8591\n",
      "Epoch 64/100\n",
      "8000/8000 [==============================] - 0s 41us/sample - loss: 0.3468 - acc: 0.8572\n",
      "Epoch 65/100\n",
      "8000/8000 [==============================] - 0s 40us/sample - loss: 0.3460 - acc: 0.8577\n",
      "Epoch 66/100\n",
      "8000/8000 [==============================] - 0s 42us/sample - loss: 0.3457 - acc: 0.8579\n",
      "Epoch 67/100\n",
      "8000/8000 [==============================] - 0s 34us/sample - loss: 0.3454 - acc: 0.8597\n",
      "Epoch 68/100\n",
      "8000/8000 [==============================] - 0s 34us/sample - loss: 0.3446 - acc: 0.8591\n",
      "Epoch 69/100\n",
      "8000/8000 [==============================] - 0s 37us/sample - loss: 0.3445 - acc: 0.8597\n",
      "Epoch 70/100\n",
      "8000/8000 [==============================] - 0s 38us/sample - loss: 0.3445 - acc: 0.8606\n",
      "Epoch 71/100\n",
      "8000/8000 [==============================] - 0s 38us/sample - loss: 0.3441 - acc: 0.8600\n",
      "Epoch 72/100\n",
      "8000/8000 [==============================] - 0s 39us/sample - loss: 0.3436 - acc: 0.8590\n",
      "Epoch 73/100\n",
      "8000/8000 [==============================] - 0s 34us/sample - loss: 0.3433 - acc: 0.8589\n",
      "Epoch 74/100\n",
      "8000/8000 [==============================] - 0s 36us/sample - loss: 0.3426 - acc: 0.8615\n",
      "Epoch 75/100\n",
      "8000/8000 [==============================] - 0s 49us/sample - loss: 0.3427 - acc: 0.8600\n",
      "Epoch 76/100\n",
      "8000/8000 [==============================] - 0s 46us/sample - loss: 0.3426 - acc: 0.8616\n",
      "Epoch 77/100\n",
      "8000/8000 [==============================] - 0s 39us/sample - loss: 0.3422 - acc: 0.8605\n",
      "Epoch 78/100\n"
     ]
    },
    {
     "name": "stdout",
     "output_type": "stream",
     "text": [
      "8000/8000 [==============================] - 0s 42us/sample - loss: 0.3417 - acc: 0.8614\n",
      "Epoch 79/100\n",
      "8000/8000 [==============================] - 0s 37us/sample - loss: 0.3415 - acc: 0.8604\n",
      "Epoch 80/100\n",
      "8000/8000 [==============================] - 0s 49us/sample - loss: 0.3415 - acc: 0.8620\n",
      "Epoch 81/100\n",
      "8000/8000 [==============================] - 0s 39us/sample - loss: 0.3410 - acc: 0.8597\n",
      "Epoch 82/100\n",
      "8000/8000 [==============================] - 0s 36us/sample - loss: 0.3406 - acc: 0.8621\n",
      "Epoch 83/100\n",
      "8000/8000 [==============================] - 0s 36us/sample - loss: 0.3407 - acc: 0.8611\n",
      "Epoch 84/100\n",
      "8000/8000 [==============================] - 0s 36us/sample - loss: 0.3400 - acc: 0.8619\n",
      "Epoch 85/100\n",
      "8000/8000 [==============================] - 0s 35us/sample - loss: 0.3399 - acc: 0.8626\n",
      "Epoch 86/100\n",
      "8000/8000 [==============================] - 0s 32us/sample - loss: 0.3392 - acc: 0.8618\n",
      "Epoch 87/100\n",
      "8000/8000 [==============================] - 0s 34us/sample - loss: 0.3392 - acc: 0.8620\n",
      "Epoch 88/100\n",
      "8000/8000 [==============================] - 0s 32us/sample - loss: 0.3396 - acc: 0.8608\n",
      "Epoch 89/100\n",
      "8000/8000 [==============================] - 0s 33us/sample - loss: 0.3387 - acc: 0.8612\n",
      "Epoch 90/100\n",
      "8000/8000 [==============================] - 0s 32us/sample - loss: 0.3391 - acc: 0.8622\n",
      "Epoch 91/100\n",
      "8000/8000 [==============================] - 0s 36us/sample - loss: 0.3392 - acc: 0.8624\n",
      "Epoch 92/100\n",
      "8000/8000 [==============================] - 0s 33us/sample - loss: 0.3382 - acc: 0.8629\n",
      "Epoch 93/100\n",
      "8000/8000 [==============================] - 0s 32us/sample - loss: 0.3383 - acc: 0.8616\n",
      "Epoch 94/100\n",
      "8000/8000 [==============================] - 0s 35us/sample - loss: 0.3384 - acc: 0.8621\n",
      "Epoch 95/100\n",
      "8000/8000 [==============================] - 0s 32us/sample - loss: 0.3379 - acc: 0.8626\n",
      "Epoch 96/100\n",
      "8000/8000 [==============================] - 0s 32us/sample - loss: 0.3377 - acc: 0.8622\n",
      "Epoch 97/100\n",
      "8000/8000 [==============================] - 0s 35us/sample - loss: 0.3380 - acc: 0.8626\n",
      "Epoch 98/100\n",
      "8000/8000 [==============================] - 0s 32us/sample - loss: 0.3378 - acc: 0.8625\n",
      "Epoch 99/100\n",
      "8000/8000 [==============================] - 0s 34us/sample - loss: 0.3375 - acc: 0.8611\n",
      "Epoch 100/100\n",
      "8000/8000 [==============================] - 0s 32us/sample - loss: 0.3373 - acc: 0.8621\n"
     ]
    },
    {
     "data": {
      "text/plain": [
       "<tensorflow.python.keras.callbacks.History at 0x20897809a20>"
      ]
     },
     "execution_count": 19,
     "metadata": {},
     "output_type": "execute_result"
    }
   ],
   "source": [
    "ann.fit(X_train, y_train, batch_size = 32, epochs = 100)"
   ]
  },
  {
   "cell_type": "markdown",
   "metadata": {
    "colab_type": "text",
    "id": "tJj5k2MxZga3"
   },
   "source": [
    "## Part 4 - Making the predictions and evaluating the model"
   ]
  },
  {
   "cell_type": "markdown",
   "metadata": {
    "colab_type": "text",
    "id": "84QFoqGYeXHL"
   },
   "source": [
    "### Predicting the result of a single observation"
   ]
  },
  {
   "cell_type": "markdown",
   "metadata": {
    "colab_type": "text",
    "id": "CGRo3eacgDdC"
   },
   "source": [
    "**Homework**\n",
    "\n",
    "Use our ANN model to predict if the customer with the following informations will leave the bank: \n",
    "\n",
    "Geography: France\n",
    "\n",
    "Credit Score: 600\n",
    "\n",
    "Gender: Male\n",
    "\n",
    "Age: 40 years old\n",
    "\n",
    "Tenure: 3 years\n",
    "\n",
    "Balance: \\$ 60000\n",
    "\n",
    "Number of Products: 2\n",
    "\n",
    "Does this customer have a credit card ? Yes\n",
    "\n",
    "Is this customer an Active Member: Yes\n",
    "\n",
    "Estimated Salary: \\$ 50000\n",
    "\n",
    "So, should we say goodbye to that customer ?"
   ]
  },
  {
   "cell_type": "markdown",
   "metadata": {
    "colab_type": "text",
    "id": "ZhU1LTgPg-kH"
   },
   "source": [
    "**Solution**"
   ]
  },
  {
   "cell_type": "code",
   "execution_count": 22,
   "metadata": {
    "colab": {
     "base_uri": "https://localhost:8080/",
     "height": 34
    },
    "colab_type": "code",
    "id": "2d8IoCCkeWGL",
    "outputId": "957f3970-e197-4c3b-a150-7f69dc567f5d"
   },
   "outputs": [
    {
     "name": "stdout",
     "output_type": "stream",
     "text": [
      "[[ True]]\n"
     ]
    }
   ],
   "source": [
    "print(ann.predict(sc.transform([[1, 0, 0, 600, 1, 40, 3, 60000, 2, 1, 1, 50000]])) > 0.5)"
   ]
  },
  {
   "cell_type": "code",
   "execution_count": 28,
   "metadata": {},
   "outputs": [
    {
     "data": {
      "text/plain": [
       "array([1.0, 0.0, 0.0, 619, 0, 42, 2, 0.0, 1, 1, 1, 101348.88],\n",
       "      dtype=object)"
      ]
     },
     "execution_count": 28,
     "metadata": {},
     "output_type": "execute_result"
    }
   ],
   "source": [
    "X[0]"
   ]
  },
  {
   "cell_type": "markdown",
   "metadata": {
    "colab_type": "text",
    "id": "wGjx94g2n7OV"
   },
   "source": [
    "Therefore, our ANN model predicts that this customer stays in the bank!\n",
    "\n",
    "**Important note 1:** Notice that the values of the features were all input in a double pair of square brackets. That's because the \"predict\" method always expects a 2D array as the format of its inputs. And putting our values into a double pair of square brackets makes the input exactly a 2D array.\n",
    "\n",
    "**Important note 2:** Notice also that the \"France\" country was not input as a string in the last column but as \"1, 0, 0\" in the first three columns. That's because of course the predict method expects the one-hot-encoded values of the state, and as we see in the first row of the matrix of features X, \"France\" was encoded as \"1, 0, 0\". And be careful to include these values in the first three columns, because the dummy variables are always created in the first columns."
   ]
  },
  {
   "cell_type": "markdown",
   "metadata": {
    "colab_type": "text",
    "id": "u7yx47jPZt11"
   },
   "source": [
    "### Predicting the Test set results"
   ]
  },
  {
   "cell_type": "code",
   "execution_count": 29,
   "metadata": {
    "colab": {
     "base_uri": "https://localhost:8080/",
     "height": 137
    },
    "colab_type": "code",
    "id": "nIyEeQdRZwgs",
    "outputId": "82330ba8-9bdc-4fd1-d3cf-b6d78ee7c2a3"
   },
   "outputs": [
    {
     "name": "stdout",
     "output_type": "stream",
     "text": [
      "[[0 0]\n",
      " [0 1]\n",
      " [0 0]\n",
      " ...\n",
      " [0 0]\n",
      " [0 0]\n",
      " [0 0]]\n"
     ]
    }
   ],
   "source": [
    "y_pred = ann.predict(X_test)\n",
    "y_pred = (y_pred > 0.5)\n",
    "print(np.concatenate((y_pred.reshape(len(y_pred),1), y_test.reshape(len(y_test),1)),1))"
   ]
  },
  {
   "cell_type": "markdown",
   "metadata": {
    "colab_type": "text",
    "id": "o0oyfLWoaEGw"
   },
   "source": [
    "### Making the Confusion Matrix"
   ]
  },
  {
   "cell_type": "code",
   "execution_count": 30,
   "metadata": {
    "colab": {
     "base_uri": "https://localhost:8080/",
     "height": 68
    },
    "colab_type": "code",
    "id": "ci6K_r6LaF6P",
    "outputId": "4d854e9e-22d5-432f-f6e5-a102fe3ae0bd"
   },
   "outputs": [
    {
     "name": "stdout",
     "output_type": "stream",
     "text": [
      "[[1512   83]\n",
      " [ 199  206]]\n"
     ]
    },
    {
     "data": {
      "text/plain": [
       "0.859"
      ]
     },
     "execution_count": 30,
     "metadata": {},
     "output_type": "execute_result"
    }
   ],
   "source": [
    "from sklearn.metrics import confusion_matrix, accuracy_score\n",
    "cm = confusion_matrix(y_test, y_pred)\n",
    "print(cm)\n",
    "accuracy_score(y_test, y_pred)"
   ]
  },
  {
   "cell_type": "code",
   "execution_count": null,
   "metadata": {},
   "outputs": [],
   "source": []
  }
 ],
 "metadata": {
  "colab": {
   "collapsed_sections": [],
   "name": "artificial_neural_network.ipynb",
   "provenance": [],
   "toc_visible": true
  },
  "kernelspec": {
   "display_name": "Python 3",
   "language": "python",
   "name": "python3"
  },
  "language_info": {
   "codemirror_mode": {
    "name": "ipython",
    "version": 3
   },
   "file_extension": ".py",
   "mimetype": "text/x-python",
   "name": "python",
   "nbconvert_exporter": "python",
   "pygments_lexer": "ipython3",
   "version": "3.7.3"
  }
 },
 "nbformat": 4,
 "nbformat_minor": 1
}
